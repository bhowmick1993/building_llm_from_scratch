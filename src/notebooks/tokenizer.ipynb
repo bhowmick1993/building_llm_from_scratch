{
 "cells": [
  {
   "cell_type": "code",
   "execution_count": 9,
   "metadata": {},
   "outputs": [
    {
     "name": "stdout",
     "output_type": "stream",
     "text": [
      "Total number of charadcters in the text:  20479\n",
      "First 100 characters of the text:  I HAD always thought Jack Gisburn rather a cheap genius--though a good fellow enough--so it was no g\n"
     ]
    }
   ],
   "source": [
    "with open(\"C:\\\\AB_Personal\\\\building_llm_from_scratch\\\\data\\\\the-verdict.txt\", \"r\", encoding=\"utf-8\") as f:\n",
    "    raw_text = f.read()\n",
    "print(\"Total number of charadcters in the text: \", len(raw_text))\n",
    "print(\"First 100 characters of the text: \", raw_text[:100])"
   ]
  },
  {
   "cell_type": "code",
   "execution_count": 10,
   "metadata": {},
   "outputs": [
    {
     "name": "stdout",
     "output_type": "stream",
     "text": [
      "['Hello,', ' ', 'world.', ' ', 'This,', ' ', 'is', ' ', 'a', ' ', '', ' ', 'test.']\n"
     ]
    }
   ],
   "source": [
    "import re\n",
    "# Split the text where while space is found\n",
    "text = \"Hello, world. This, is a  test.\"\n",
    "result = re.split(r'(\\s)', text)\n",
    "print(result)"
   ]
  },
  {
   "cell_type": "markdown",
   "metadata": {},
   "source": [
    "<div style=\"background-color: darkblue; padding: 10px; border-radius: 5px;\">\n",
    "  The reult we got is a list of individual words, white spaces and punctuations!\n",
    "</div>"
   ]
  },
  {
   "cell_type": "code",
   "execution_count": 11,
   "metadata": {},
   "outputs": [
    {
     "name": "stdout",
     "output_type": "stream",
     "text": [
      "['Hello', ',', '', ' ', 'world', '.', '', ' ', 'This', ',', '', ' ', 'is', ' ', 'a', ' ', '', ' ', 'test', '.', '']\n"
     ]
    }
   ],
   "source": [
    "result = re.split(r'([, .]|\\s)', text) # no space in the pipe part\n",
    "print(result)"
   ]
  },
  {
   "cell_type": "code",
   "execution_count": 12,
   "metadata": {},
   "outputs": [
    {
     "name": "stdout",
     "output_type": "stream",
     "text": [
      "['Hello', ',', 'world', '.', 'This', ',', 'is', 'a', 'test', '.']\n"
     ]
    }
   ],
   "source": [
    "# now we will remove the empty strings from the list\n",
    "result = [item for item in result if item.strip()]\n",
    "print(result)"
   ]
  },
  {
   "cell_type": "markdown",
   "metadata": {},
   "source": [
    "<div style=\"background-color: darkblue; padding: 10px; border-radius: 5px;\">\n",
    "  When developing a tokenizer whetehr we should keep or delete whote spaces depends on the application that we will be using it for.\n",
    "\n",
    "  Removing white spaces reduces memory and computing requirements. But white spaces can be sensitive to tasks like generationg code.\n",
    "   \n",
    "  But in this case we will remove white spaces.  \n",
    "</div>"
   ]
  },
  {
   "cell_type": "code",
   "execution_count": 13,
   "metadata": {},
   "outputs": [
    {
     "name": "stdout",
     "output_type": "stream",
     "text": [
      "['Hello', ',', 'world', '.', 'is', 'this', '--', 'a', 'test', '?']\n"
     ]
    }
   ],
   "source": [
    "# We will now try to keep all spcial characters as tokens as well\n",
    "text = \"Hello, world. is this-- a test?\"\n",
    "result = re.split(r'([?: , . : ; ? \"() \\']|--|\\s )', text)\n",
    "result = [item.strip() for item in result if item.strip()]\n",
    "print(result)"
   ]
  },
  {
   "cell_type": "code",
   "execution_count": 14,
   "metadata": {},
   "outputs": [
    {
     "name": "stdout",
     "output_type": "stream",
     "text": [
      "Total number of tokens in the text:  4629\n",
      "First 100 tokens of the text:  ['I', 'HAD', 'always', 'thought', 'Jack', 'Gisburn', 'rather', 'a', 'cheap', 'genius', '--', 'though', 'a', 'good', 'fellow', 'enough', '--', 'so', 'it', 'was', 'no', 'great', 'surprise', 'to', 'me', 'to', 'hear', 'that', ',', 'in', 'the', 'height', 'of', 'his', 'glory', ',', 'he', 'had', 'dropped', 'his', 'painting', ',', 'married', 'a', 'rich', 'widow', ',', 'and', 'established', 'himself', 'in', 'a', 'villa', 'on', 'the', 'Riviera', '.', '(', 'Though', 'I', 'rather', 'thought', 'it', 'would', 'have', 'been', 'Rome', 'or', 'Florence', '.', ')', '\"', 'The', 'height', 'of', 'his', 'glory', '\"', '--', 'that', 'was', 'what', 'the', 'women', 'called', 'it', '.', 'I', 'can', 'hear', 'Mrs', '.', 'Gideon', 'Thwing', '--', 'his', 'last', 'Chicago', 'sitter', '--']\n"
     ]
    }
   ],
   "source": [
    "# now we apply the above scheme to the entire raw text to get the tokens\n",
    "\n",
    "preprocessed = re.split(r'([?: , . : ; \"( ) \\']|--|\\s )', raw_text)\n",
    "preprocessed = [item.strip() for item in preprocessed if item.strip()]\n",
    "print(\"Total number of tokens in the text: \", len(preprocessed))\n",
    "print(\"First 100 tokens of the text: \", preprocessed[:100]) "
   ]
  },
  {
   "cell_type": "markdown",
   "metadata": {},
   "source": [
    "# Converting Tokens to Token IDS"
   ]
  },
  {
   "cell_type": "code",
   "execution_count": 16,
   "metadata": {},
   "outputs": [
    {
     "name": "stdout",
     "output_type": "stream",
     "text": [
      "Total number of unique tokens in the text:  1157\n"
     ]
    }
   ],
   "source": [
    "# Creating the vocabulary : Select the unique tokens and sort them alphabetically\n",
    "all_words = sorted(set(preprocessed))\n",
    "vocab_size = len(all_words)\n",
    "print(\"Total number of unique tokens in the text: \", len(all_words))\n"
   ]
  },
  {
   "cell_type": "code",
   "execution_count": 17,
   "metadata": {},
   "outputs": [],
   "source": [
    "# After determining the vocabulary soze we create the vocabulary dictionary.\n",
    "# The keys of the dictionary are the words and the values are the indices of the words in the vocabulary\n",
    "# unique integer for each word\n",
    "vocab = {word: i for i, word in enumerate(all_words)}"
   ]
  },
  {
   "cell_type": "code",
   "execution_count": 18,
   "metadata": {},
   "outputs": [
    {
     "name": "stdout",
     "output_type": "stream",
     "text": [
      "('\"', 0)\n",
      "(\"'\", 1)\n",
      "('(', 2)\n",
      "(')', 3)\n",
      "(',', 4)\n",
      "('--', 5)\n",
      "('.', 6)\n",
      "(':', 7)\n",
      "(';', 8)\n",
      "('?', 9)\n",
      "('A', 10)\n",
      "('Ah', 11)\n",
      "('Among', 12)\n",
      "('And', 13)\n",
      "('Are', 14)\n",
      "('Arrt', 15)\n",
      "('As', 16)\n",
      "('At', 17)\n",
      "('Be', 18)\n",
      "('Begin', 19)\n",
      "('Burlington', 20)\n",
      "('But', 21)\n",
      "('By', 22)\n",
      "('Carlo', 23)\n",
      "('Chicago', 24)\n",
      "('Claude', 25)\n",
      "('Come', 26)\n",
      "('Croft', 27)\n",
      "('Destroyed', 28)\n",
      "('Devonshire', 29)\n",
      "('Don', 30)\n",
      "('Dubarry_', 31)\n",
      "('Emperors', 32)\n",
      "('Florence', 33)\n",
      "('For', 34)\n",
      "('Gallery', 35)\n",
      "('Gideon', 36)\n",
      "('Gisburn', 37)\n",
      "('Gisburn!', 38)\n",
      "('Gisburns', 39)\n",
      "('Grafton', 40)\n",
      "('Greek', 41)\n",
      "('Grindle', 42)\n",
      "('Grindles', 43)\n",
      "('HAD', 44)\n",
      "('Had', 45)\n",
      "('Hang', 46)\n",
      "('Has', 47)\n",
      "('He', 48)\n",
      "('Her', 49)\n",
      "('Hermia', 50)\n",
      "('His', 51)\n"
     ]
    }
   ],
   "source": [
    "for i, item in enumerate(vocab.items()):\n",
    "    print(item)\n",
    "    if i > 50 :\n",
    "        break"
   ]
  },
  {
   "cell_type": "markdown",
   "metadata": {},
   "source": [
    "# Creating the Tokeinzer Class"
   ]
  },
  {
   "cell_type": "code",
   "execution_count": 19,
   "metadata": {},
   "outputs": [],
   "source": [
    "class SimpleTokenizerV1:\n",
    "    def __init__(self, vocab):\n",
    "        self.str_to_int = vocab\n",
    "        self.int_to_str = {i : s for s, i in vocab.items()}\n",
    "    \n",
    "    def encode(self, text):\n",
    "        preprocessed = re.split(r'([?: , . : ; \"( ) \\']|--|\\s )', text)\n",
    "        preprocessed = [item.strip() for item in preprocessed if item.strip()]\n",
    "        ids = [self.str_to_int[word] for word in preprocessed]\n",
    "        return ids\n",
    "    \n",
    "    def decode(self, ids):\n",
    "        text = \" \".join([self.int_to_str[i] for i in ids])\n",
    "        # Replace spaces before the specified punctuation marks\n",
    "        text = re.sub(r'\\s([, . : ; ? !])', r'\\1', text)\n",
    "        return text"
   ]
  },
  {
   "cell_type": "code",
   "execution_count": 20,
   "metadata": {},
   "outputs": [
    {
     "name": "stdout",
     "output_type": "stream",
     "text": [
      "[0, 56, 1, 870, 1010, 619, 549, 766, 4, 1153, 613, 4, 0, 69, 6, 37, 871, 1132, 774, 814, 6]\n"
     ]
    }
   ],
   "source": [
    "tokenizer = SimpleTokenizerV1(vocab) # the vocabulary that we created above\n",
    "text = \"\"\"\"It's the last he painted, you know,\" \n",
    "    \t    Mrs. Gisburn said with pardonable pride.\"\"\"\n",
    "ids = tokenizer.encode(text)\n",
    "print(ids)\n"
   ]
  },
  {
   "cell_type": "code",
   "execution_count": 22,
   "metadata": {},
   "outputs": [
    {
     "name": "stdout",
     "output_type": "stream",
     "text": [
      "\" It ' s the last he painted, you know, \" Mrs. Gisburn said with pardonable pride.\n"
     ]
    }
   ],
   "source": [
    "regenrated_te = tokenizer.decode(ids)\n",
    "print(regenrated_te)"
   ]
  },
  {
   "cell_type": "markdown",
   "metadata": {},
   "source": [
    "<div style=\"border: 2px solid green; padding: 10px; background-color:rgb(62, 202, 167); border-radius: 5px; color: black;\">\n",
    "    Let's say we now have a senstecne say <strong>\"Hello, how was your tea?\"</strong>.\n",
    "    In this case we will get an error when we try to encode because the word <strong>\"Hello\"</strong> is not present in the Vocabulary.\n",
    "    In order to handle that <strong>Special Context Tokens</strong> are used.\n",
    "</div>"
   ]
  },
  {
   "cell_type": "markdown",
   "metadata": {},
   "source": [
    "# Adding Special Context Tokens"
   ]
  },
  {
   "cell_type": "markdown",
   "metadata": {},
   "source": [
    "1. We will add two new tokens to our vocabulary namely <**|unk|**> and <**|endoftext|**>.\n",
    "2. When we encouter any unknown word (word not in the vocabulary) then  <**|unk|**> is used.\n",
    "3. When we have multiple sources then we need the <**|endoftext|**>.\n",
    "4. The <**|endoftext|**> tokens act as markers, signalling the start or end of a particular segment."
   ]
  },
  {
   "cell_type": "code",
   "execution_count": 39,
   "metadata": {},
   "outputs": [
    {
     "name": "stdout",
     "output_type": "stream",
     "text": [
      "Total number of unique tokens in the text:  1159\n"
     ]
    }
   ],
   "source": [
    "# let's include the two special tokens\n",
    "all_tokens = sorted(set(preprocessed))\n",
    "all_tokens.extend([\"<|endoftext|>\", \"<|unk|>\"])\n",
    "vocab = {word: i for i, word in enumerate(all_tokens)}\n",
    "print(\"Total number of unique tokens in the text: \", len(vocab))"
   ]
  },
  {
   "cell_type": "code",
   "execution_count": 40,
   "metadata": {},
   "outputs": [
    {
     "name": "stdout",
     "output_type": "stream",
     "text": [
      "('younger', 1154)\n",
      "('your', 1155)\n",
      "('yourself', 1156)\n",
      "('<|endoftext|>', 1157)\n",
      "('<|unk|>', 1158)\n"
     ]
    }
   ],
   "source": [
    "for i, item in enumerate(list(vocab.items())[-5:]):\n",
    "    print(item)"
   ]
  },
  {
   "cell_type": "code",
   "execution_count": 54,
   "metadata": {},
   "outputs": [],
   "source": [
    "class SimpleTokenizerV2:\n",
    "    def __init__(self, vocab):\n",
    "        self.str_to_int = vocab\n",
    "        self.int_to_str = {i : s for s, i in vocab.items()}\n",
    "    \n",
    "    def encode(self, text):\n",
    "        preprocessed = re.split(r'([?: , . : ; \"( ) \\']|--|\\s )', text)\n",
    "        preprocessed = [item.strip() for item in preprocessed if item.strip()]\n",
    "        preprocessed = [\n",
    "            word if word in self.str_to_int else \"<|unk|>\"\n",
    "            for word in preprocessed\n",
    "        ]\n",
    "        \n",
    "        ids = [self.str_to_int[word] for word in preprocessed]\n",
    "        return ids\n",
    "    \n",
    "    def decode(self, ids):\n",
    "        text = \" \".join([self.int_to_str[i] for i in ids])\n",
    "        # Replace spaces before the specified punctuation marks\n",
    "        text = re.sub(r'\\s([, . : ; ? !])', r'\\1', text)\n",
    "        return text"
   ]
  },
  {
   "cell_type": "code",
   "execution_count": 56,
   "metadata": {},
   "outputs": [
    {
     "name": "stdout",
     "output_type": "stream",
     "text": [
      "Hello, do you like tea? <|endoftext|> In the sunlit terraces of the palace.\n"
     ]
    }
   ],
   "source": [
    "tokenizer2 = SimpleTokenizerV2(vocab) # the vocabulary that we created above\n",
    "\n",
    "text1 = \"Hello, do you like tea?\"\n",
    "text2 = \"In the sunlit terraces of the palace.\"\n",
    "\n",
    "\"\"\"\n",
    "When there are multiple sources, then each ssource is joined by this kind of <|endoftext|> token.\n",
    "\"\"\"\n",
    "text = \" <|endoftext|> \".join((text1, text2))\n",
    "\n",
    "print(text)"
   ]
  },
  {
   "cell_type": "code",
   "execution_count": 57,
   "metadata": {},
   "outputs": [
    {
     "name": "stdout",
     "output_type": "stream",
     "text": [
      "[1158, 4, 373, 1153, 645, 997, 9, 1157, 55, 1010, 978, 1006, 741, 1010, 1158, 6]\n"
     ]
    }
   ],
   "source": [
    "ids = tokenizer2.encode(text)\n",
    "print(ids)"
   ]
  },
  {
   "cell_type": "code",
   "execution_count": 58,
   "metadata": {},
   "outputs": [
    {
     "data": {
      "text/plain": [
       "'<|unk|>, do you like tea? <|endoftext|> In the sunlit terraces of the <|unk|>.'"
      ]
     },
     "execution_count": 58,
     "metadata": {},
     "output_type": "execute_result"
    }
   ],
   "source": [
    "tokenizer2.decode(ids) "
   ]
  },
  {
   "cell_type": "markdown",
   "metadata": {},
   "source": [
    "### There are some other tokens that researches use\n",
    "\n",
    "1. **[BOS]** : Beginning of Sequence. this token marks the beginning of text.\n",
    "2. **[EOS]** : End of Sequence. This token is placed at the end of a text, and is useful when concatenating multiple unrelated texts.\n",
    "3. **[PAD]** : Padding. \n",
    "\n",
    "Study Byte Pair Encoding Tokenizer"
   ]
  },
  {
   "cell_type": "markdown",
   "metadata": {},
   "source": [
    "# BYTE PAIR ENCODING"
   ]
  },
  {
   "cell_type": "code",
   "execution_count": 24,
   "metadata": {},
   "outputs": [],
   "source": [
    "import importlib\n",
    "import tiktoken"
   ]
  },
  {
   "cell_type": "code",
   "execution_count": 25,
   "metadata": {},
   "outputs": [],
   "source": [
    "# We initiate the BPE tokenizer from tiktokens\n",
    "tokenizer = tiktoken.get_encoding('gpt2')"
   ]
  },
  {
   "cell_type": "code",
   "execution_count": 26,
   "metadata": {},
   "outputs": [
    {
     "name": "stdout",
     "output_type": "stream",
     "text": [
      "[15496, 11, 466, 345, 588, 8887, 30, 220, 50256, 554, 262, 4252, 18250, 8812, 2114, 1659, 617, 34680, 5372, 13]\n"
     ]
    }
   ],
   "source": [
    "text = (\"Hello, do you like tea? <|endoftext|> In the sunlit terraces\"\n",
    "        \"of someunknownplace.\")\n",
    "\n",
    "integers = tokenizer.encode(text, allowed_special={\"<|endoftext|>\"})\n",
    "print(integers)"
   ]
  },
  {
   "cell_type": "markdown",
   "metadata": {},
   "source": [
    "<div style=\"background-color:rgb(96, 194, 201); padding:10px; border-radius:5px;color: black\">\n",
    "  \n",
    "  **Observations from the above tokenizer**  \n",
    "\n",
    "  1. The `<|endoftext|>` has a relatively large token `50256`.  \n",
    "  2. The BPE tokenizer used to train models like GPT-2 and GPT-3 has a total vocabulary size of `50257`.  \n",
    "  3. `<|endoftext|>` is the last token in the vocabulary.  \n",
    "\n",
    "</div>\n"
   ]
  },
  {
   "cell_type": "code",
   "execution_count": 27,
   "metadata": {},
   "outputs": [],
   "source": [
    "text = tokenizer.decode(integers)"
   ]
  },
  {
   "cell_type": "code",
   "execution_count": 28,
   "metadata": {},
   "outputs": [
    {
     "name": "stdout",
     "output_type": "stream",
     "text": [
      "Hello, do you like tea? <|endoftext|> In the sunlit terracesof someunknownplace.\n"
     ]
    }
   ],
   "source": [
    "print(text)"
   ]
  },
  {
   "cell_type": "code",
   "execution_count": null,
   "metadata": {},
   "outputs": [],
   "source": []
  }
 ],
 "metadata": {
  "kernelspec": {
   "display_name": "venv",
   "language": "python",
   "name": "python3"
  },
  "language_info": {
   "codemirror_mode": {
    "name": "ipython",
    "version": 3
   },
   "file_extension": ".py",
   "mimetype": "text/x-python",
   "name": "python",
   "nbconvert_exporter": "python",
   "pygments_lexer": "ipython3",
   "version": "3.12.0"
  }
 },
 "nbformat": 4,
 "nbformat_minor": 2
}
